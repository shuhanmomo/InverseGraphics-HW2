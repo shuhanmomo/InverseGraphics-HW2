{
 "cells": [
  {
   "cell_type": "code",
   "execution_count": 6,
   "metadata": {},
   "outputs": [
    {
     "name": "stdout",
     "output_type": "stream",
     "text": [
      "c:\\Users\\moumo\\OneDrive\\GSD 5th term\\Inverse Graphics\\HW2\\InverseGraphics-HW2\\src\n"
     ]
    }
   ],
   "source": [
    "cd .."
   ]
  },
  {
   "cell_type": "code",
   "execution_count": 8,
   "metadata": {},
   "outputs": [
    {
     "name": "stdout",
     "output_type": "stream",
     "text": [
      "c:\\Users\\moumo\\OneDrive\\GSD 5th term\\Inverse Graphics\\HW2\\InverseGraphics-HW2\n"
     ]
    }
   ],
   "source": [
    "cd .."
   ]
  },
  {
   "cell_type": "code",
   "execution_count": 25,
   "metadata": {},
   "outputs": [],
   "source": [
    "import torch.nn.functional as F\n",
    "from jaxtyping import Float\n",
    "from omegaconf import DictConfig\n",
    "from PIL import Image\n",
    "from torch import Tensor\n",
    "import torch\n",
    "from src.dataset.field_dataset import FieldDataset\n",
    "import numpy as np"
   ]
  },
  {
   "cell_type": "code",
   "execution_count": 56,
   "metadata": {},
   "outputs": [
    {
     "name": "stdout",
     "output_type": "stream",
     "text": [
      "torch.Size([1, 3, 128, 128])\n"
     ]
    }
   ],
   "source": [
    "path = \"data/tester.png\"\n",
    "read_image = Image.open(path)\n",
    "image = torch.tensor(np.array(read_image)).permute(2, 0, 1).unsqueeze(0).float() / 255\n",
    "print(image.shape)  # batch channel h w"
   ]
  },
  {
   "cell_type": "code",
   "execution_count": 57,
   "metadata": {},
   "outputs": [
    {
     "data": {
      "text/plain": [
       "torch.Size([4, 2])"
      ]
     },
     "execution_count": 57,
     "metadata": {},
     "output_type": "execute_result"
    }
   ],
   "source": [
    "coordinates = torch.tensor(\n",
    "    [\n",
    "        [7 / 16, 7 / 16],\n",
    "        [7 / 16, 9 / 16],\n",
    "        [9 / 16, 7 / 16],\n",
    "        [9 / 16, 9 / 16],\n",
    "    ]\n",
    ")\n",
    "coordinates.shape  # batch #coord"
   ]
  },
  {
   "cell_type": "code",
   "execution_count": 58,
   "metadata": {},
   "outputs": [
    {
     "data": {
      "text/plain": [
       "torch.Size([1, 4, 1, 2])"
      ]
     },
     "execution_count": 58,
     "metadata": {},
     "output_type": "execute_result"
    }
   ],
   "source": [
    "coordinates = coordinates * 2 - 1\n",
    "coordinates = coordinates.unsqueeze(0)\n",
    "coordinates = coordinates.unsqueeze(2)\n",
    "coordinates.shape"
   ]
  },
  {
   "cell_type": "code",
   "execution_count": 59,
   "metadata": {},
   "outputs": [
    {
     "data": {
      "text/plain": [
       "torch.Size([1, 3, 4, 1])"
      ]
     },
     "execution_count": 59,
     "metadata": {},
     "output_type": "execute_result"
    }
   ],
   "source": [
    "sampled_colors = F.grid_sample(image, coordinates, align_corners=False)\n",
    "sampled_colors.shape"
   ]
  },
  {
   "cell_type": "code",
   "execution_count": 60,
   "metadata": {},
   "outputs": [
    {
     "name": "stdout",
     "output_type": "stream",
     "text": [
      "torch.Size([4, 3])\n",
      "tensor([[1., 0., 0.],\n",
      "        [0., 0., 1.],\n",
      "        [1., 1., 0.],\n",
      "        [0., 1., 0.]])\n"
     ]
    }
   ],
   "source": [
    "sampled_colors = sampled_colors.squeeze(0).squeeze(-1).permute(1, 0)\n",
    "print(sampled_colors.shape)\n",
    "print(sampled_colors)"
   ]
  }
 ],
 "metadata": {
  "kernelspec": {
   "display_name": "ighw2",
   "language": "python",
   "name": "python3"
  },
  "language_info": {
   "codemirror_mode": {
    "name": "ipython",
    "version": 3
   },
   "file_extension": ".py",
   "mimetype": "text/x-python",
   "name": "python",
   "nbconvert_exporter": "python",
   "pygments_lexer": "ipython3",
   "version": "3.9.18"
  },
  "orig_nbformat": 4
 },
 "nbformat": 4,
 "nbformat_minor": 2
}
