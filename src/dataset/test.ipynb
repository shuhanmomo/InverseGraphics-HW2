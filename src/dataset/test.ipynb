{
 "cells": [
  {
   "cell_type": "code",
   "execution_count": 6,
   "metadata": {},
   "outputs": [
    {
     "name": "stdout",
     "output_type": "stream",
     "text": [
      "c:\\Users\\moumo\\OneDrive\\GSD 5th term\\Inverse Graphics\\HW2\\InverseGraphics-HW2\\src\n"
     ]
    }
   ],
   "source": [
    "cd .."
   ]
  },
  {
   "cell_type": "code",
   "execution_count": 8,
   "metadata": {},
   "outputs": [
    {
     "name": "stdout",
     "output_type": "stream",
     "text": [
      "c:\\Users\\moumo\\OneDrive\\GSD 5th term\\Inverse Graphics\\HW2\\InverseGraphics-HW2\n"
     ]
    }
   ],
   "source": [
    "cd .."
   ]
  },
  {
   "cell_type": "code",
   "execution_count": 61,
   "metadata": {},
   "outputs": [],
   "source": [
    "import torch.nn.functional as F\n",
    "from jaxtyping import Float\n",
    "from omegaconf import DictConfig\n",
    "from PIL import Image\n",
    "from torch import Tensor\n",
    "import torch\n",
    "from src.dataset.field_dataset import FieldDataset\n",
    "import numpy as np\n",
    "from tests.f32 import f32"
   ]
  },
  {
   "cell_type": "code",
   "execution_count": 62,
   "metadata": {},
   "outputs": [],
   "source": [
    "class FieldDatasetImage(FieldDataset):\n",
    "    def __init__(self, cfg: DictConfig) -> None:\n",
    "        \"\"\"Load the image in cfg.path into memory here.\"\"\"\n",
    "\n",
    "        super().__init__(cfg)\n",
    "        self.cfg = cfg\n",
    "        read_image = Image.open(cfg.path).convert(\"RGB\")\n",
    "\n",
    "        self.image = (\n",
    "            torch.tensor(np.array(read_image)).permute(2, 0, 1).unsqueeze(0).float()\n",
    "            / 255\n",
    "        )  # batch channel h w\n",
    "\n",
    "    def query(\n",
    "        self,\n",
    "        coordinates: Float[Tensor, \"batch d_coordinate\"],\n",
    "    ) -> Float[Tensor, \"batch d_out\"]:\n",
    "        \"\"\"Sample the image at the specified coordinates and return the corresponding\n",
    "        colors. Remember that the coordinates will be in the range [0, 1].\n",
    "\n",
    "        You may find the grid_sample function from torch.nn.functional helpful here.\n",
    "        Pay special attention to grid_sample's expected input range for the grid\n",
    "        parameter.\n",
    "        \"\"\"\n",
    "        coordinates = coordinates * 2 - 1\n",
    "        coordinates = coordinates.unsqueeze(0).unsqueeze(2)\n",
    "        sampled_colors = F.grid_sample(self.image, coordinates)  # batch channel d_out 1\n",
    "        return sampled_colors.squeeze(0).squeeze(-1).permute(1, 0)  # batch d_out\n",
    "\n",
    "    @property\n",
    "    def d_coordinate(self) -> int:\n",
    "        return 2\n",
    "\n",
    "    @property\n",
    "    def d_out(self) -> int:\n",
    "        return 3\n",
    "\n",
    "    @property\n",
    "    def grid_size(self) -> tuple[int, ...]:\n",
    "        \"\"\"Return a grid size that corresponds to the image's shape.\"\"\"\n",
    "        return self.image.shape[-2:]"
   ]
  },
  {
   "cell_type": "code",
   "execution_count": 63,
   "metadata": {},
   "outputs": [],
   "source": [
    "def test_sampling():\n",
    "    dataset = FieldDatasetImage(\n",
    "        DictConfig(\n",
    "            {\n",
    "                \"path\": \"data/tester.png\",\n",
    "            }\n",
    "        )\n",
    "    )\n",
    "\n",
    "    coordinates = [\n",
    "        [7 / 16, 7 / 16],\n",
    "        [7 / 16, 9 / 16],\n",
    "        [9 / 16, 7 / 16],\n",
    "        [9 / 16, 9 / 16],\n",
    "    ]\n",
    "\n",
    "    expected = [\n",
    "        [1, 0, 0],\n",
    "        [0, 0, 1],\n",
    "        [1, 1, 0],\n",
    "        [0, 1, 0],\n",
    "    ]\n",
    "\n",
    "    assert torch.allclose(\n",
    "        dataset.query(f32(coordinates)),\n",
    "        f32(expected),\n",
    "    )\n",
    "    print(\"test successful\")"
   ]
  },
  {
   "cell_type": "code",
   "execution_count": 64,
   "metadata": {},
   "outputs": [
    {
     "name": "stdout",
     "output_type": "stream",
     "text": [
      "test successful\n"
     ]
    },
    {
     "name": "stderr",
     "output_type": "stream",
     "text": [
      "c:\\Users\\moumo\\anaconda3\\envs\\ighw2\\lib\\site-packages\\torch\\nn\\functional.py:4236: UserWarning: Default grid_sample and affine_grid behavior has changed to align_corners=False since 1.3.0. Please specify align_corners=True if the old behavior is desired. See the documentation of grid_sample for details.\n",
      "  warnings.warn(\n"
     ]
    }
   ],
   "source": [
    "test_sampling()"
   ]
  }
 ],
 "metadata": {
  "kernelspec": {
   "display_name": "ighw2",
   "language": "python",
   "name": "python3"
  },
  "language_info": {
   "codemirror_mode": {
    "name": "ipython",
    "version": 3
   },
   "file_extension": ".py",
   "mimetype": "text/x-python",
   "name": "python",
   "nbconvert_exporter": "python",
   "pygments_lexer": "ipython3",
   "version": "3.9.18"
  },
  "orig_nbformat": 4
 },
 "nbformat": 4,
 "nbformat_minor": 2
}
